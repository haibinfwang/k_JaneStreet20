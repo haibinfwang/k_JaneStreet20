{
 "cells": [
  {
   "cell_type": "markdown",
   "metadata": {},
   "source": [
    "# Notes on Jane Street Competition 2020\n",
    "\n",
    " - Useful posts in discussion"
   ]
  },
  {
   "cell_type": "markdown",
   "metadata": {},
   "source": [
    "## Useful posts\n",
    "\n",
    " - Yirun Zhang's (notebook grandmaster) summary of his kernels https://www.kaggle.com/c/jane-street-market-prediction/discussion/205112"
   ]
  },
  {
   "cell_type": "markdown",
   "metadata": {},
   "source": [
    "## EDA kernels\n",
    "\n",
    " - EDA+PCA https://www.kaggle.com/eudmar/jane-street-eda-pca/notebook"
   ]
  },
  {
   "cell_type": "markdown",
   "metadata": {},
   "source": [
    "## What I leaned\n",
    "\n",
    "This is a running list of what is learned from discussion and shared kernels\n",
    " - Loading data with datatable, which is supposed to be faster\n",
    " - A single variable:  and\n",
    "   - Descriptive statistics: pd function df.describe()\n",
    "   - Distribution plots: sns.displot(), sns.histplot()\n",
    "   - Box plots: sns.boxplot(), df.boxplot\n",
    "\n",
    "\n",
    "\n",
    "\n"
   ]
  },
  {
   "cell_type": "code",
   "execution_count": null,
   "metadata": {},
   "outputs": [],
   "source": []
  }
 ],
 "metadata": {
  "kernelspec": {
   "display_name": "Python 3",
   "language": "python",
   "name": "python3"
  },
  "language_info": {
   "codemirror_mode": {
    "name": "ipython",
    "version": 3
   },
   "file_extension": ".py",
   "mimetype": "text/x-python",
   "name": "python",
   "nbconvert_exporter": "python",
   "pygments_lexer": "ipython3",
   "version": "3.8.5"
  },
  "toc": {
   "base_numbering": 1,
   "nav_menu": {},
   "number_sections": true,
   "sideBar": true,
   "skip_h1_title": false,
   "title_cell": "Table of Contents",
   "title_sidebar": "Contents",
   "toc_cell": false,
   "toc_position": {},
   "toc_section_display": true,
   "toc_window_display": false
  }
 },
 "nbformat": 4,
 "nbformat_minor": 4
}
