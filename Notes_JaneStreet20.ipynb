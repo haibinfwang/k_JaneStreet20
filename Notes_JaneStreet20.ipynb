{
 "cells": [
  {
   "cell_type": "markdown",
   "metadata": {},
   "source": [
    "# Notes on Jane Street Competition 2020\n",
    "\n",
    " - Useful posts in discussion"
   ]
  },
  {
   "cell_type": "markdown",
   "metadata": {},
   "source": [
    "## Useful posts\n",
    "\n",
    " - Yirun Zhang's (notebook grandmaster) summary of his kernels https://www.kaggle.com/c/jane-street-market-prediction/discussion/205112"
   ]
  },
  {
   "cell_type": "markdown",
   "metadata": {},
   "source": [
    "## EDA kernels\n",
    "\n",
    "[Top] indicates that the posts are top rated (voted)\n",
    " - EDA+PCA https://www.kaggle.com/eudmar/jane-street-eda-pca/notebook\n",
    " - [Top] JSMP: Super Cool EDA and lgbm Baseline https://www.kaggle.com/maunish/jsmp-super-cool-eda-lgbm-baseline\n",
    "   - This post imports a host of data analysis modules, which may not be used. So they are likely the author's common toolbox\n",
    "   - Some PCA application\n",
    " - [Top*] Jane Street: EDA of day 0 and feature importance https://www.kaggle.com/carlmcbrideellis/jane-street-eda-of-day-0-and-feature-importance\n",
    " "
   ]
  },
  {
   "cell_type": "markdown",
   "metadata": {},
   "source": [
    "## Useful Python packages\n",
    "These Python packages may be useful\n",
    " - plotly, a plotting tool\n",
    " - torch, data pipeline\n",
    "   - from torch.utils.data import TensorDataset, DataLoader\n"
   ]
  },
  {
   "cell_type": "markdown",
   "metadata": {},
   "source": [
    "## What I leaned\n",
    "\n",
    "This is a running list of what is learned from discussion and shared kernels\n",
    " - Loading data with datatable, which is supposed to be faster\n",
    "   - Use to_pandas() to get pd.dataframe\n",
    " - A single variable:  and\n",
    "   - Descriptive statistics: pd function df.describe()\n",
    "   - Distribution plots: sns.displot(), sns.histplot()\n",
    "   - Box plots: sns.boxplot(), df.boxplot\n",
    "   - violin plot, sns.violinplot()\n",
    " - Mutilivariates analysis\n",
    "   - Correlation may be shown as heat map.\n",
    "     - plotly and matplotlib .imshow() may be used\n",
    "   - Pair-wise scatter plot\n",
    "     - sns.pairplot()\n",
    "   - PCA, from sklearn.decomposition\n",
    " - Jupyter notebook tricks\n",
    "   - Turn off warning\n",
    "     - Use: import warnings; warnings.filterwarnings('ignore')\n",
    "     - Consider doing it after all done; rerun to keep a nice presentation\n",
    "   - Directly display a datafram looks better than print\n",
    "     - How to keep the direct display style in print?\n",
    "   - Execute shell command, starting with !\n",
    "     - !wc -l ../input/jane-street-market-prediction/train.csv\n",
    "\n",
    "\n",
    "\n",
    "\n"
   ]
  },
  {
   "cell_type": "code",
   "execution_count": null,
   "metadata": {},
   "outputs": [],
   "source": []
  }
 ],
 "metadata": {
  "kernelspec": {
   "display_name": "Python 3",
   "language": "python",
   "name": "python3"
  },
  "language_info": {
   "codemirror_mode": {
    "name": "ipython",
    "version": 3
   },
   "file_extension": ".py",
   "mimetype": "text/x-python",
   "name": "python",
   "nbconvert_exporter": "python",
   "pygments_lexer": "ipython3",
   "version": "3.8.5"
  },
  "toc": {
   "base_numbering": 1,
   "nav_menu": {},
   "number_sections": true,
   "sideBar": true,
   "skip_h1_title": false,
   "title_cell": "Table of Contents",
   "title_sidebar": "Contents",
   "toc_cell": false,
   "toc_position": {},
   "toc_section_display": true,
   "toc_window_display": false
  }
 },
 "nbformat": 4,
 "nbformat_minor": 4
}
