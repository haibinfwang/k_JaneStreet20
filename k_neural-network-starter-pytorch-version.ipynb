{
 "cells": [
  {
   "cell_type": "markdown",
   "metadata": {
    "papermill": {
     "duration": 0.014527,
     "end_time": "2021-01-30T21:01:02.303622",
     "exception": false,
     "start_time": "2021-01-30T21:01:02.289095",
     "status": "completed"
    },
    "tags": []
   },
   "source": [
    "# Neural Network Starter Pytorch Version\n",
    "\n",
    "This kernel is a pytorch version of yirun's https://www.kaggle.com/gogo827jz/jane-street-neural-network-starter kernel.\n",
    "If you think this kernel is helpful, please upvote!!"
   ]
  },
  {
   "cell_type": "code",
   "execution_count": 1,
   "metadata": {
    "_kg_hide-output": true,
    "execution": {
     "iopub.execute_input": "2021-01-30T21:01:02.339672Z",
     "iopub.status.busy": "2021-01-30T21:01:02.338762Z",
     "iopub.status.idle": "2021-01-30T21:01:09.199575Z",
     "shell.execute_reply": "2021-01-30T21:01:09.198733Z"
    },
    "papermill": {
     "duration": 6.882657,
     "end_time": "2021-01-30T21:01:09.199847",
     "exception": false,
     "start_time": "2021-01-30T21:01:02.317190",
     "status": "completed"
    },
    "tags": []
   },
   "outputs": [],
   "source": [
    "import warnings\n",
    "warnings.filterwarnings('ignore')\n",
    "\n",
    "import os, gc, random, time\n",
    "# import cudf\n",
    "import pandas as pd\n",
    "import numpy as np\n",
    "# import cupy as cp\n",
    "# import janestreet\n",
    "# import xgboost as xgb\n",
    "# from hyperopt import hp, fmin, tpe, Trials\n",
    "# from hyperopt.pyll.base import scope\n",
    "from sklearn.metrics import roc_auc_score, roc_curve, log_loss\n",
    "from sklearn.model_selection import GroupKFold\n",
    "import matplotlib.pyplot as plt\n",
    "from tqdm.notebook import tqdm\n",
    "from joblib import dump, load\n",
    "\n",
    "import torch\n",
    "import torch.nn as nn\n",
    "from torch.autograd import Variable\n",
    "from torch.utils.data import DataLoader\n",
    "from torch.nn import CrossEntropyLoss, MSELoss\n",
    "from torch.nn.modules.loss import _WeightedLoss\n",
    "import torch.nn.functional as F"
   ]
  },
  {
   "cell_type": "code",
   "execution_count": 3,
   "metadata": {
    "execution": {
     "iopub.execute_input": "2021-01-30T21:01:09.234953Z",
     "iopub.status.busy": "2021-01-30T21:01:09.234213Z",
     "iopub.status.idle": "2021-01-30T21:01:09.243366Z",
     "shell.execute_reply": "2021-01-30T21:01:09.242577Z"
    },
    "papermill": {
     "duration": 0.029485,
     "end_time": "2021-01-30T21:01:09.243525",
     "exception": false,
     "start_time": "2021-01-30T21:01:09.214040",
     "status": "completed"
    },
    "tags": []
   },
   "outputs": [],
   "source": [
    "def seed_everything(seed=42):\n",
    "    random.seed(seed)\n",
    "    os.environ['PYTHONHASHSEED'] = str(seed)\n",
    "    np.random.seed(seed)\n",
    "    torch.manual_seed(seed)\n",
    "    torch.cuda.manual_seed(seed)\n",
    "    torch.backends.cudnn.deterministic = True\n",
    "seed_everything(seed=42)"
   ]
  },
  {
   "cell_type": "markdown",
   "metadata": {
    "papermill": {
     "duration": 0.013861,
     "end_time": "2021-01-30T21:01:09.271428",
     "exception": false,
     "start_time": "2021-01-30T21:01:09.257567",
     "status": "completed"
    },
    "tags": []
   },
   "source": [
    "# Preprocessing"
   ]
  },
  {
   "cell_type": "code",
   "execution_count": 4,
   "metadata": {
    "_kg_hide-output": false,
    "execution": {
     "iopub.execute_input": "2021-01-30T21:01:09.306264Z",
     "iopub.status.busy": "2021-01-30T21:01:09.305600Z",
     "iopub.status.idle": "2021-01-30T21:03:27.555209Z",
     "shell.execute_reply": "2021-01-30T21:03:27.556168Z"
    },
    "papermill": {
     "duration": 138.271924,
     "end_time": "2021-01-30T21:03:27.556400",
     "exception": false,
     "start_time": "2021-01-30T21:01:09.284476",
     "status": "completed"
    },
    "tags": []
   },
   "outputs": [
    {
     "name": "stdout",
     "output_type": "stream",
     "text": [
      "Loading...\n",
      "Filling...\n",
      "Converting...\n",
      "Finish.\n"
     ]
    }
   ],
   "source": [
    "print('Loading...')\n",
    "ddir='~/learn/kaggle/Data/JaneStreet20' # local\n",
    "#ddir='../input/jane-street-market-prediction' # kaggle\n",
    "train = pd.read_csv(os.path.join(ddir,\"train.csv\"))\n",
    "# train = pd.read_csv('/kaggle/input/jane-street-market-prediction/train.csv')\n",
    "features = [c for c in train.columns if 'feature' in c]\n",
    "\n",
    "print('Filling...')\n",
    "f_mean = train[features[1:]].mean()\n",
    "train = train.loc[train.weight > 0].reset_index(drop = True)\n",
    "train[features[1:]] = train[features[1:]].fillna(f_mean)\n",
    "train['action'] = (train['resp'] > 0).astype('int')\n",
    "\n",
    "print('Converting...')\n",
    "# train = train.to_pandas()\n",
    "f_mean = f_mean.values#.get()\n",
    "np.save('f_mean.npy', f_mean)\n",
    "\n",
    "print('Finish.')"
   ]
  },
  {
   "cell_type": "markdown",
   "metadata": {
    "papermill": {
     "duration": 0.014507,
     "end_time": "2021-01-30T21:03:27.586265",
     "exception": false,
     "start_time": "2021-01-30T21:03:27.571758",
     "status": "completed"
    },
    "tags": []
   },
   "source": [
    "# Training"
   ]
  },
  {
   "cell_type": "code",
   "execution_count": 5,
   "metadata": {
    "execution": {
     "iopub.execute_input": "2021-01-30T21:03:27.632705Z",
     "iopub.status.busy": "2021-01-30T21:03:27.630844Z",
     "iopub.status.idle": "2021-01-30T21:03:27.633513Z",
     "shell.execute_reply": "2021-01-30T21:03:27.634012Z"
    },
    "papermill": {
     "duration": 0.033289,
     "end_time": "2021-01-30T21:03:27.634168",
     "exception": false,
     "start_time": "2021-01-30T21:03:27.600879",
     "status": "completed"
    },
    "tags": []
   },
   "outputs": [],
   "source": [
    "class Model(nn.Module):\n",
    "    def __init__(self):\n",
    "        super(Model, self).__init__()\n",
    "        self.batch_norm0 = nn.BatchNorm1d(len(features))\n",
    "        self.dropout0 = nn.Dropout(0.10143786981358652)\n",
    "\n",
    "        hidden_size = 256\n",
    "        self.dense1 = nn.Linear(len(features), 384)\n",
    "        self.batch_norm1 = nn.BatchNorm1d(384)\n",
    "        self.dropout1 = nn.Dropout(0.19720339053599725)\n",
    "\n",
    "        self.dense2 = nn.Linear(384, 896)\n",
    "        self.batch_norm2 = nn.BatchNorm1d(896)\n",
    "        self.dropout2 = nn.Dropout(0.2703017847244654)\n",
    "\n",
    "        self.dense3 = nn.Linear(896, 896)\n",
    "        self.batch_norm3 = nn.BatchNorm1d(896)\n",
    "        self.dropout3 = nn.Dropout(0.23148340929571917)\n",
    "\n",
    "        self.dense4 = nn.Linear(896, 394)\n",
    "        self.batch_norm4 = nn.BatchNorm1d(394)\n",
    "        self.dropout4 = nn.Dropout(0.2357768967777311)\n",
    "\n",
    "        self.dense5 = nn.Linear(394, 1)\n",
    "\n",
    "        self.Relu = nn.ReLU(inplace=True)\n",
    "        self.PReLU = nn.PReLU()\n",
    "        self.LeakyReLU = nn.LeakyReLU(negative_slope=0.01, inplace=True)\n",
    "        # self.GeLU = nn.GELU()\n",
    "        self.RReLU = nn.RReLU()\n",
    "\n",
    "    def forward(self, x):\n",
    "        x = self.batch_norm0(x)\n",
    "        x = self.dropout0(x)\n",
    "\n",
    "        x = self.dense1(x)\n",
    "        x = self.batch_norm1(x)\n",
    "        x = x * F.sigmoid(x)\n",
    "        x = self.dropout1(x)\n",
    "\n",
    "        x = self.dense2(x)\n",
    "        x = self.batch_norm2(x)\n",
    "        x = x * F.sigmoid(x)\n",
    "        x = self.dropout2(x)\n",
    "        \n",
    "        x = self.dense3(x)\n",
    "        x = self.batch_norm3(x)\n",
    "        x = x * F.sigmoid(x)\n",
    "        x = self.dropout3(x)\n",
    "        \n",
    "        x = self.dense4(x)\n",
    "        x = self.batch_norm4(x)\n",
    "        x = x * F.sigmoid(x)\n",
    "        x = self.dropout4(x)\n",
    "\n",
    "        x = self.dense5(x)\n",
    "\n",
    "        return x"
   ]
  },
  {
   "cell_type": "code",
   "execution_count": 6,
   "metadata": {
    "execution": {
     "iopub.execute_input": "2021-01-30T21:03:27.672049Z",
     "iopub.status.busy": "2021-01-30T21:03:27.671117Z",
     "iopub.status.idle": "2021-01-30T21:03:27.675464Z",
     "shell.execute_reply": "2021-01-30T21:03:27.674887Z"
    },
    "papermill": {
     "duration": 0.025946,
     "end_time": "2021-01-30T21:03:27.675613",
     "exception": false,
     "start_time": "2021-01-30T21:03:27.649667",
     "status": "completed"
    },
    "tags": []
   },
   "outputs": [],
   "source": [
    "class MarketDataset:\n",
    "    def __init__(self, df):\n",
    "        self.features = df[features].values\n",
    "\n",
    "        self.label = (df['resp'] > 0).astype('int').values.reshape(-1, 1)\n",
    "\n",
    "    def __len__(self):\n",
    "        return len(self.label)\n",
    "\n",
    "    def __getitem__(self, idx):\n",
    "        return {\n",
    "            'features': torch.tensor(self.features[idx], dtype=torch.float),\n",
    "            'label': torch.tensor(self.label[idx], dtype=torch.float)\n",
    "        }"
   ]
  },
  {
   "cell_type": "code",
   "execution_count": 7,
   "metadata": {
    "execution": {
     "iopub.execute_input": "2021-01-30T21:03:27.717312Z",
     "iopub.status.busy": "2021-01-30T21:03:27.715450Z",
     "iopub.status.idle": "2021-01-30T21:03:27.718089Z",
     "shell.execute_reply": "2021-01-30T21:03:27.718596Z"
    },
    "papermill": {
     "duration": 0.027881,
     "end_time": "2021-01-30T21:03:27.718769",
     "exception": false,
     "start_time": "2021-01-30T21:03:27.690888",
     "status": "completed"
    },
    "tags": []
   },
   "outputs": [],
   "source": [
    "def train_fn(model, optimizer, scheduler, loss_fn, dataloader, device):\n",
    "    model.train()\n",
    "    final_loss = 0\n",
    "\n",
    "    for data in dataloader:\n",
    "        optimizer.zero_grad()\n",
    "        features = data['features'].to(device)\n",
    "        label = data['label'].to(device)\n",
    "        outputs = model(features)\n",
    "        loss = loss_fn(outputs, label)\n",
    "        loss.backward()\n",
    "        optimizer.step()\n",
    "        if scheduler:\n",
    "            scheduler.step()\n",
    "\n",
    "        final_loss += loss.item()\n",
    "\n",
    "    final_loss /= len(dataloader)\n",
    "\n",
    "    return final_loss\n",
    "\n",
    "def inference_fn(model, dataloader, device):\n",
    "    model.eval()\n",
    "    preds = []\n",
    "\n",
    "    for data in dataloader:\n",
    "        features = data['features'].to(device)\n",
    "\n",
    "        with torch.no_grad():\n",
    "            outputs = model(features)\n",
    "\n",
    "        preds.append(outputs.sigmoid().detach().cpu().numpy())\n",
    "\n",
    "    preds = np.concatenate(preds).reshape(-1)\n",
    "\n",
    "    return preds"
   ]
  },
  {
   "cell_type": "code",
   "execution_count": 8,
   "metadata": {
    "execution": {
     "iopub.execute_input": "2021-01-30T21:03:27.758344Z",
     "iopub.status.busy": "2021-01-30T21:03:27.756884Z",
     "iopub.status.idle": "2021-01-30T21:03:27.759435Z",
     "shell.execute_reply": "2021-01-30T21:03:27.759946Z"
    },
    "papermill": {
     "duration": 0.026409,
     "end_time": "2021-01-30T21:03:27.760082",
     "exception": false,
     "start_time": "2021-01-30T21:03:27.733673",
     "status": "completed"
    },
    "tags": []
   },
   "outputs": [],
   "source": [
    "class SmoothBCEwLogits(_WeightedLoss):\n",
    "    def __init__(self, weight=None, reduction='mean', smoothing=0.0):\n",
    "        super().__init__(weight=weight, reduction=reduction)\n",
    "        self.smoothing = smoothing\n",
    "        self.weight = weight\n",
    "        self.reduction = reduction\n",
    "\n",
    "    @staticmethod\n",
    "    def _smooth(targets:torch.Tensor, n_labels:int, smoothing=0.0):\n",
    "        assert 0 <= smoothing < 1\n",
    "        with torch.no_grad():\n",
    "            targets = targets * (1.0 - smoothing) + 0.5 * smoothing\n",
    "        return targets\n",
    "\n",
    "    def forward(self, inputs, targets):\n",
    "        targets = SmoothBCEwLogits._smooth(targets, inputs.size(-1),\n",
    "            self.smoothing)\n",
    "        loss = F.binary_cross_entropy_with_logits(inputs, targets,self.weight)\n",
    "\n",
    "        if  self.reduction == 'sum':\n",
    "            loss = loss.sum()\n",
    "        elif  self.reduction == 'mean':\n",
    "            loss = loss.mean()\n",
    "\n",
    "        return loss"
   ]
  },
  {
   "cell_type": "code",
   "execution_count": 9,
   "metadata": {
    "execution": {
     "iopub.execute_input": "2021-01-30T21:03:27.800761Z",
     "iopub.status.busy": "2021-01-30T21:03:27.800134Z",
     "iopub.status.idle": "2021-01-30T21:03:27.804063Z",
     "shell.execute_reply": "2021-01-30T21:03:27.803608Z"
    },
    "papermill": {
     "duration": 0.029276,
     "end_time": "2021-01-30T21:03:27.804176",
     "exception": false,
     "start_time": "2021-01-30T21:03:27.774900",
     "status": "completed"
    },
    "tags": []
   },
   "outputs": [],
   "source": [
    "class EarlyStopping:\n",
    "    def __init__(self, patience=7, mode=\"max\", delta=0.):\n",
    "        self.patience = patience\n",
    "        self.counter = 0\n",
    "        self.mode = mode\n",
    "        self.best_score = None\n",
    "        self.early_stop = False\n",
    "        self.delta = delta\n",
    "        if self.mode == \"min\":\n",
    "            self.val_score = np.Inf\n",
    "        else:\n",
    "            self.val_score = -np.Inf\n",
    "\n",
    "    def __call__(self, epoch_score, model, model_path):\n",
    "\n",
    "        if self.mode == \"min\":\n",
    "            score = -1.0 * epoch_score\n",
    "        else:\n",
    "            score = np.copy(epoch_score)\n",
    "\n",
    "        if self.best_score is None:\n",
    "            self.best_score = score\n",
    "            self.save_checkpoint(epoch_score, model, model_path)\n",
    "        elif score < self.best_score: #  + self.delta\n",
    "            self.counter += 1\n",
    "            print('EarlyStopping counter: {} out of {}'.format(self.counter, self.patience))\n",
    "            if self.counter >= self.patience:\n",
    "                self.early_stop = True\n",
    "        else:\n",
    "            self.best_score = score\n",
    "            # ema.apply_shadow()\n",
    "            self.save_checkpoint(epoch_score, model, model_path)\n",
    "            # ema.restore()\n",
    "            self.counter = 0\n",
    "\n",
    "    def save_checkpoint(self, epoch_score, model, model_path):\n",
    "        if epoch_score not in [-np.inf, np.inf, -np.nan, np.nan]:\n",
    "            print('Validation score improved ({} --> {}). Saving model!'.format(self.val_score, epoch_score))\n",
    "            torch.save(model.state_dict(), model_path)\n",
    "        self.val_score = epoch_score"
   ]
  },
  {
   "cell_type": "code",
   "execution_count": 10,
   "metadata": {
    "execution": {
     "iopub.execute_input": "2021-01-30T21:03:27.839685Z",
     "iopub.status.busy": "2021-01-30T21:03:27.838911Z",
     "iopub.status.idle": "2021-01-30T21:03:27.843050Z",
     "shell.execute_reply": "2021-01-30T21:03:27.842483Z"
    },
    "papermill": {
     "duration": 0.024514,
     "end_time": "2021-01-30T21:03:27.843177",
     "exception": false,
     "start_time": "2021-01-30T21:03:27.818663",
     "status": "completed"
    },
    "tags": []
   },
   "outputs": [],
   "source": [
    "def utility_score_bincount(date, weight, resp, action):\n",
    "    count_i = len(np.unique(date))\n",
    "    # print('weight: ', weight)\n",
    "    # print('resp: ', resp)\n",
    "    # print('action: ', action)\n",
    "    # print('weight * resp * action: ', weight * resp * action)\n",
    "    Pi = np.bincount(date, weight * resp * action)\n",
    "    t = np.sum(Pi) / np.sqrt(np.sum(Pi ** 2)) * np.sqrt(250 / count_i)\n",
    "    u = np.clip(t, 0, 6) * np.sum(Pi)\n",
    "    return u"
   ]
  },
  {
   "cell_type": "code",
   "execution_count": 12,
   "metadata": {
    "execution": {
     "iopub.execute_input": "2021-01-30T21:03:27.887855Z",
     "iopub.status.busy": "2021-01-30T21:03:27.886566Z",
     "iopub.status.idle": "2021-01-30T21:30:39.998359Z",
     "shell.execute_reply": "2021-01-30T21:30:39.998861Z"
    },
    "papermill": {
     "duration": 1632.141057,
     "end_time": "2021-01-30T21:30:39.999060",
     "exception": false,
     "start_time": "2021-01-30T21:03:27.858003",
     "status": "completed"
    },
    "scrolled": true,
    "tags": []
   },
   "outputs": [
    {
     "name": "stdout",
     "output_type": "stream",
     "text": [
      "FOLD0 EPOCH:  0, train_loss:0.69449, u_score:641.20386, auc:0.52759, logloss:0.69369, time: 0.33min\n",
      "Validation score improved (-inf --> 0.527594630636981). Saving model!\n",
      "FOLD0 EPOCH:  1, train_loss:0.69106, u_score:860.29795, auc:0.52571, logloss:0.69242, time: 0.62min\n",
      "EarlyStopping counter: 1 out of 3\n",
      "FOLD0 EPOCH:  2, train_loss:0.69023, u_score:1485.87226, auc:0.53209, logloss:0.69151, time: 0.90min\n",
      "Validation score improved (0.527594630636981 --> 0.532093337883379). Saving model!\n",
      "FOLD0 EPOCH:  3, train_loss:0.68973, u_score:1511.38829, auc:0.53202, logloss:0.69214, time: 1.18min\n",
      "EarlyStopping counter: 1 out of 3\n",
      "FOLD0 EPOCH:  4, train_loss:0.68897, u_score:770.94115, auc:0.52832, logloss:0.69323, time: 1.46min\n",
      "EarlyStopping counter: 2 out of 3\n",
      "FOLD0 EPOCH:  5, train_loss:0.68814, u_score:850.88691, auc:0.53055, logloss:0.69308, time: 1.74min\n",
      "EarlyStopping counter: 3 out of 3\n",
      "Early stopping\n",
      "FOLD1 EPOCH:  0, train_loss:0.69378, u_score:182.76909, auc:0.52524, logloss:0.69281, time: 2.05min\n",
      "Validation score improved (-inf --> 0.5252435672222571). Saving model!\n",
      "FOLD1 EPOCH:  1, train_loss:0.69071, u_score:929.47569, auc:0.52791, logloss:0.69268, time: 2.33min\n",
      "Validation score improved (0.5252435672222571 --> 0.5279084879855717). Saving model!\n",
      "FOLD1 EPOCH:  2, train_loss:0.69007, u_score:683.58413, auc:0.53043, logloss:0.69240, time: 2.60min\n",
      "Validation score improved (0.5279084879855717 --> 0.5304283149820745). Saving model!\n",
      "FOLD1 EPOCH:  3, train_loss:0.68935, u_score:1143.68479, auc:0.52996, logloss:0.69262, time: 2.88min\n",
      "EarlyStopping counter: 1 out of 3\n",
      "FOLD1 EPOCH:  4, train_loss:0.68868, u_score:1336.42770, auc:0.53092, logloss:0.69267, time: 3.17min\n",
      "Validation score improved (0.5304283149820745 --> 0.5309233093126787). Saving model!\n",
      "FOLD1 EPOCH:  5, train_loss:0.68805, u_score:1060.40555, auc:0.53061, logloss:0.69319, time: 3.47min\n",
      "EarlyStopping counter: 1 out of 3\n",
      "FOLD1 EPOCH:  6, train_loss:0.68731, u_score:843.63175, auc:0.52934, logloss:0.69505, time: 3.75min\n",
      "EarlyStopping counter: 2 out of 3\n",
      "FOLD1 EPOCH:  7, train_loss:0.68637, u_score:1118.55107, auc:0.53143, logloss:0.69334, time: 4.02min\n",
      "Validation score improved (0.5309233093126787 --> 0.5314341102506843). Saving model!\n",
      "FOLD1 EPOCH:  8, train_loss:0.68562, u_score:1039.07607, auc:0.52989, logloss:0.69439, time: 4.30min\n",
      "EarlyStopping counter: 1 out of 3\n",
      "FOLD1 EPOCH:  9, train_loss:0.68473, u_score:1677.13905, auc:0.53090, logloss:0.69401, time: 4.57min\n",
      "EarlyStopping counter: 2 out of 3\n",
      "FOLD2 EPOCH:  0, train_loss:0.69405, u_score:3529.15304, auc:0.53340, logloss:0.69251, time: 4.87min\n",
      "Validation score improved (-inf --> 0.5333970771070811). Saving model!\n",
      "FOLD2 EPOCH:  1, train_loss:0.69075, u_score:3860.11463, auc:0.53260, logloss:0.69356, time: 5.16min\n",
      "EarlyStopping counter: 1 out of 3\n",
      "FOLD2 EPOCH:  2, train_loss:0.68998, u_score:2642.91220, auc:0.53412, logloss:0.69216, time: 5.45min\n",
      "Validation score improved (0.5333970771070811 --> 0.534121138170887). Saving model!\n",
      "FOLD2 EPOCH:  3, train_loss:0.68953, u_score:3574.03059, auc:0.53247, logloss:0.69222, time: 5.74min\n",
      "EarlyStopping counter: 1 out of 3\n",
      "FOLD2 EPOCH:  4, train_loss:0.68886, u_score:3437.59002, auc:0.53282, logloss:0.69375, time: 6.03min\n",
      "EarlyStopping counter: 2 out of 3\n",
      "FOLD2 EPOCH:  5, train_loss:0.68814, u_score:3455.42152, auc:0.53338, logloss:0.69294, time: 6.30min\n",
      "EarlyStopping counter: 3 out of 3\n",
      "Early stopping\n",
      "FOLD3 EPOCH:  0, train_loss:0.69326, u_score:260.55065, auc:0.52521, logloss:0.69276, time: 6.60min\n",
      "Validation score improved (-inf --> 0.5252108905992394). Saving model!\n",
      "FOLD3 EPOCH:  1, train_loss:0.69070, u_score:429.85436, auc:0.52731, logloss:0.69218, time: 6.87min\n",
      "Validation score improved (0.5252108905992394 --> 0.5273143474903093). Saving model!\n",
      "FOLD3 EPOCH:  2, train_loss:0.68995, u_score:562.39142, auc:0.52506, logloss:0.69334, time: 7.14min\n",
      "EarlyStopping counter: 1 out of 3\n",
      "FOLD3 EPOCH:  3, train_loss:0.68921, u_score:973.48777, auc:0.52664, logloss:0.69341, time: 7.41min\n",
      "EarlyStopping counter: 2 out of 3\n",
      "FOLD3 EPOCH:  4, train_loss:0.68837, u_score:814.75467, auc:0.52707, logloss:0.69286, time: 7.68min\n",
      "EarlyStopping counter: 3 out of 3\n",
      "Early stopping\n",
      "FOLD4 EPOCH:  0, train_loss:0.69370, u_score:1727.20602, auc:0.53562, logloss:0.69106, time: 7.98min\n",
      "Validation score improved (-inf --> 0.535615741557412). Saving model!\n",
      "FOLD4 EPOCH:  1, train_loss:0.69093, u_score:2011.03082, auc:0.53327, logloss:0.69194, time: 8.25min\n",
      "EarlyStopping counter: 1 out of 3\n",
      "FOLD4 EPOCH:  2, train_loss:0.68994, u_score:1386.20758, auc:0.52962, logloss:0.69352, time: 8.52min\n",
      "EarlyStopping counter: 2 out of 3\n",
      "FOLD4 EPOCH:  3, train_loss:0.68920, u_score:1631.51140, auc:0.52963, logloss:0.69321, time: 8.79min\n",
      "EarlyStopping counter: 3 out of 3\n",
      "Early stopping\n"
     ]
    }
   ],
   "source": [
    "batch_size = 4096\n",
    "label_smoothing = 1e-2\n",
    "learning_rate = 1e-3\n",
    "\n",
    "start_time = time.time()\n",
    "oof = np.zeros(len(train['action']))\n",
    "gkf = GroupKFold(n_splits = 5)\n",
    "for fold, (tr, te) in enumerate(gkf.split(train['action'].values, train['action'].values, train['date'].values)):\n",
    "    train_set = MarketDataset(train.loc[tr])\n",
    "    train_loader = DataLoader(train_set, batch_size=batch_size, shuffle=True, num_workers=4)\n",
    "    valid_set = MarketDataset(train.loc[te])\n",
    "    valid_loader = DataLoader(valid_set, batch_size=batch_size, shuffle=False, num_workers=4)\n",
    "    \n",
    "    torch.cuda.empty_cache()\n",
    "    device = torch.device(\"cuda:0\")\n",
    "    model = Model()\n",
    "    model.to(device)\n",
    "    \n",
    "    optimizer = torch.optim.Adam(model.parameters(), lr=learning_rate)\n",
    "    loss_fn = SmoothBCEwLogits(smoothing=label_smoothing)\n",
    "    \n",
    "    ckp_path = f'./model_sv/k_JSModel_{fold}.pth'\n",
    "    \n",
    "    es = EarlyStopping(patience=3, mode=\"max\")\n",
    "    for epoch in range(10):\n",
    "        train_loss = train_fn(model, optimizer, None, loss_fn, train_loader, device)\n",
    "        valid_pred = inference_fn(model, valid_loader, device)\n",
    "        auc_score = roc_auc_score((train.loc[te]['resp'] > 0).astype('int').values.reshape(-1, 1), valid_pred)\n",
    "        logloss_score = log_loss((train.loc[te]['resp'] > 0).astype('int').values.reshape(-1, 1), valid_pred)\n",
    "        valid_pred = np.where(valid_pred >= 0.5, 1, 0).astype(int)\n",
    "        u_score = utility_score_bincount(date=train.loc[te].date.values, weight=train.loc[te].weight.values, resp=train.loc[te].resp.values, action=valid_pred)\n",
    "\n",
    "        print(f\"FOLD{fold} EPOCH:{epoch:3}, train_loss:{train_loss:.5f}, u_score:{u_score:.5f}, auc:{auc_score:.5f}, logloss:{logloss_score:.5f}, \"\n",
    "              f\"time: {(time.time() - start_time) / 60:.2f}min\")\n",
    "        \n",
    "        es(auc_score, model, model_path=ckp_path)\n",
    "        if es.early_stop:\n",
    "            print(\"Early stopping\")\n",
    "            break\n",
    "    # break # only train 1 model for fast, you can remove it to train 5 folds"
   ]
  },
  {
   "cell_type": "code",
   "execution_count": 15,
   "metadata": {},
   "outputs": [
    {
     "data": {
      "text/plain": [
       "array([0, 1, 2, 3])"
      ]
     },
     "execution_count": 15,
     "metadata": {},
     "output_type": "execute_result"
    }
   ],
   "source": [
    "te[:4]"
   ]
  },
  {
   "cell_type": "markdown",
   "metadata": {
    "papermill": {
     "duration": 0.02406,
     "end_time": "2021-01-30T21:30:40.047386",
     "exception": false,
     "start_time": "2021-01-30T21:30:40.023326",
     "status": "completed"
    },
    "tags": []
   },
   "source": [
    "# Load Models\n",
    "\n",
    "Just use three models to reduce running time."
   ]
  },
  {
   "cell_type": "code",
   "execution_count": 11,
   "metadata": {
    "execution": {
     "iopub.execute_input": "2021-01-30T21:30:40.112263Z",
     "iopub.status.busy": "2021-01-30T21:30:40.111641Z",
     "iopub.status.idle": "2021-01-30T21:30:40.247733Z",
     "shell.execute_reply": "2021-01-30T21:30:40.246778Z"
    },
    "papermill": {
     "duration": 0.176196,
     "end_time": "2021-01-30T21:30:40.247886",
     "exception": false,
     "start_time": "2021-01-30T21:30:40.071690",
     "status": "completed"
    },
    "tags": []
   },
   "outputs": [],
   "source": [
    "models = []\n",
    "for i in range(5): # for fast inference, you can change 1-->5 to get higher score\n",
    "    torch.cuda.empty_cache()\n",
    "    device = torch.device(\"cuda:0\")\n",
    "    model = Model()\n",
    "    model.to(device)\n",
    "    model.eval()\n",
    "    \n",
    "    ckp_path = f'JSModel_{i}.pth'\n",
    "    model.load_state_dict(torch.load(ckp_path))\n",
    "    models.append(model)"
   ]
  },
  {
   "cell_type": "code",
   "execution_count": 12,
   "metadata": {
    "execution": {
     "iopub.execute_input": "2021-01-30T21:30:40.304070Z",
     "iopub.status.busy": "2021-01-30T21:30:40.301981Z",
     "iopub.status.idle": "2021-01-30T21:30:40.304800Z",
     "shell.execute_reply": "2021-01-30T21:30:40.305368Z"
    },
    "papermill": {
     "duration": 0.032791,
     "end_time": "2021-01-30T21:30:40.305535",
     "exception": false,
     "start_time": "2021-01-30T21:30:40.272744",
     "status": "completed"
    },
    "tags": []
   },
   "outputs": [],
   "source": [
    "f_mean = np.load('./f_mean.npy')"
   ]
  },
  {
   "cell_type": "markdown",
   "metadata": {
    "papermill": {
     "duration": 0.023548,
     "end_time": "2021-01-30T21:30:40.353824",
     "exception": false,
     "start_time": "2021-01-30T21:30:40.330276",
     "status": "completed"
    },
    "tags": []
   },
   "source": [
    "# Submitting"
   ]
  },
  {
   "cell_type": "code",
   "execution_count": 13,
   "metadata": {
    "execution": {
     "iopub.execute_input": "2021-01-30T21:30:40.407123Z",
     "iopub.status.busy": "2021-01-30T21:30:40.406466Z",
     "iopub.status.idle": "2021-01-30T21:30:40.410977Z",
     "shell.execute_reply": "2021-01-30T21:30:40.410504Z"
    },
    "papermill": {
     "duration": 0.033281,
     "end_time": "2021-01-30T21:30:40.411100",
     "exception": false,
     "start_time": "2021-01-30T21:30:40.377819",
     "status": "completed"
    },
    "tags": []
   },
   "outputs": [],
   "source": [
    "env = janestreet.make_env()\n",
    "env_iter = env.iter_test()"
   ]
  },
  {
   "cell_type": "code",
   "execution_count": 14,
   "metadata": {
    "_kg_hide-output": false,
    "execution": {
     "iopub.execute_input": "2021-01-30T21:30:40.498373Z",
     "iopub.status.busy": "2021-01-30T21:30:40.497399Z",
     "iopub.status.idle": "2021-01-30T21:34:46.973456Z",
     "shell.execute_reply": "2021-01-30T21:34:46.972876Z"
    },
    "papermill": {
     "duration": 246.538624,
     "end_time": "2021-01-30T21:34:46.973628",
     "exception": false,
     "start_time": "2021-01-30T21:30:40.435004",
     "status": "completed"
    },
    "tags": []
   },
   "outputs": [
    {
     "data": {
      "application/vnd.jupyter.widget-view+json": {
       "model_id": "184637a9105049f7bd09fa6d23feea37",
       "version_major": 2,
       "version_minor": 0
      },
      "text/plain": [
       "|          | 0/? [00:00<?, ?it/s]"
      ]
     },
     "metadata": {},
     "output_type": "display_data"
    }
   ],
   "source": [
    "opt_th = 0.5\n",
    "for (test_df, pred_df) in tqdm(env_iter):\n",
    "    if test_df['weight'].item() > 0:\n",
    "        x_tt = test_df.loc[:, features].values\n",
    "        if np.isnan(x_tt[:, 1:].sum()):\n",
    "            x_tt[:, 1:] = np.nan_to_num(x_tt[:, 1:]) + np.isnan(x_tt[:, 1:]) * f_mean\n",
    "        pred = 0.\n",
    "        \n",
    "        for i, clf in enumerate(models):\n",
    "            if i == 0:\n",
    "                pred = model(torch.tensor(x_tt, dtype=torch.float).to(device)).sigmoid().detach().cpu().numpy() / len(models)\n",
    "            else:\n",
    "                pred += model(torch.tensor(x_tt, dtype=torch.float).to(device)).sigmoid().detach().cpu().numpy() / len(models)\n",
    "        pred_df.action = np.where(pred >= opt_th, 1, 0).astype(int)\n",
    "    else:\n",
    "        pred_df.action = 0\n",
    "    env.predict(pred_df)"
   ]
  },
  {
   "cell_type": "markdown",
   "metadata": {
    "heading_collapsed": true,
    "papermill": {
     "duration": 0.026361,
     "end_time": "2021-01-30T21:34:47.028762",
     "exception": false,
     "start_time": "2021-01-30T21:34:47.002401",
     "status": "completed"
    },
    "tags": []
   },
   "source": [
    "# Just upvoting if it helps!!!"
   ]
  }
 ],
 "metadata": {
  "kernelspec": {
   "display_name": "Python 3",
   "language": "python",
   "name": "python3"
  },
  "language_info": {
   "codemirror_mode": {
    "name": "ipython",
    "version": 3
   },
   "file_extension": ".py",
   "mimetype": "text/x-python",
   "name": "python",
   "nbconvert_exporter": "python",
   "pygments_lexer": "ipython3",
   "version": "3.7.7"
  },
  "papermill": {
   "default_parameters": {},
   "duration": 2033.044066,
   "end_time": "2021-01-30T21:34:49.271055",
   "environment_variables": {},
   "exception": null,
   "input_path": "__notebook__.ipynb",
   "output_path": "__notebook__.ipynb",
   "parameters": {},
   "start_time": "2021-01-30T21:00:56.226989",
   "version": "2.2.2"
  },
  "widgets": {
   "application/vnd.jupyter.widget-state+json": {
    "state": {
     "08dc5542b9af4ca2a19282c218e841a8": {
      "model_module": "@jupyter-widgets/base",
      "model_module_version": "1.2.0",
      "model_name": "LayoutModel",
      "state": {
       "_model_module": "@jupyter-widgets/base",
       "_model_module_version": "1.2.0",
       "_model_name": "LayoutModel",
       "_view_count": null,
       "_view_module": "@jupyter-widgets/base",
       "_view_module_version": "1.2.0",
       "_view_name": "LayoutView",
       "align_content": null,
       "align_items": null,
       "align_self": null,
       "border": null,
       "bottom": null,
       "display": null,
       "flex": null,
       "flex_flow": null,
       "grid_area": null,
       "grid_auto_columns": null,
       "grid_auto_flow": null,
       "grid_auto_rows": null,
       "grid_column": null,
       "grid_gap": null,
       "grid_row": null,
       "grid_template_areas": null,
       "grid_template_columns": null,
       "grid_template_rows": null,
       "height": null,
       "justify_content": null,
       "justify_items": null,
       "left": null,
       "margin": null,
       "max_height": null,
       "max_width": null,
       "min_height": null,
       "min_width": null,
       "object_fit": null,
       "object_position": null,
       "order": null,
       "overflow": null,
       "overflow_x": null,
       "overflow_y": null,
       "padding": null,
       "right": null,
       "top": null,
       "visibility": null,
       "width": null
      }
     },
     "184637a9105049f7bd09fa6d23feea37": {
      "model_module": "@jupyter-widgets/controls",
      "model_module_version": "1.5.0",
      "model_name": "HBoxModel",
      "state": {
       "_dom_classes": [],
       "_model_module": "@jupyter-widgets/controls",
       "_model_module_version": "1.5.0",
       "_model_name": "HBoxModel",
       "_view_count": null,
       "_view_module": "@jupyter-widgets/controls",
       "_view_module_version": "1.5.0",
       "_view_name": "HBoxView",
       "box_style": "",
       "children": [
        "IPY_MODEL_b0865ad12ed5459a919b4d99eacf3f02",
        "IPY_MODEL_1d5ac84f42ea4fea9fb4f95171079702",
        "IPY_MODEL_19a14f5cf93c48cfa14603f1221563d4"
       ],
       "layout": "IPY_MODEL_9a9cc3764c6142bba85766069fcf9908"
      }
     },
     "19a14f5cf93c48cfa14603f1221563d4": {
      "model_module": "@jupyter-widgets/controls",
      "model_module_version": "1.5.0",
      "model_name": "HTMLModel",
      "state": {
       "_dom_classes": [],
       "_model_module": "@jupyter-widgets/controls",
       "_model_module_version": "1.5.0",
       "_model_name": "HTMLModel",
       "_view_count": null,
       "_view_module": "@jupyter-widgets/controls",
       "_view_module_version": "1.5.0",
       "_view_name": "HTMLView",
       "description": "",
       "description_tooltip": null,
       "layout": "IPY_MODEL_08dc5542b9af4ca2a19282c218e841a8",
       "placeholder": "​",
       "style": "IPY_MODEL_4c32fe9215a442ef84fff5aac398bd24",
       "value": "15219it [04:06, 67.13it/s]"
      }
     },
     "1d5ac84f42ea4fea9fb4f95171079702": {
      "model_module": "@jupyter-widgets/controls",
      "model_module_version": "1.5.0",
      "model_name": "FloatProgressModel",
      "state": {
       "_dom_classes": [],
       "_model_module": "@jupyter-widgets/controls",
       "_model_module_version": "1.5.0",
       "_model_name": "FloatProgressModel",
       "_view_count": null,
       "_view_module": "@jupyter-widgets/controls",
       "_view_module_version": "1.5.0",
       "_view_name": "ProgressView",
       "bar_style": "success",
       "description": "",
       "description_tooltip": null,
       "layout": "IPY_MODEL_cd3ee7c70a3a47bfbd0010e4f1bcf1f3",
       "max": 1,
       "min": 0,
       "orientation": "horizontal",
       "style": "IPY_MODEL_c456a2381b6e4af1acb7a2b97f4674de",
       "value": 1
      }
     },
     "4c32fe9215a442ef84fff5aac398bd24": {
      "model_module": "@jupyter-widgets/controls",
      "model_module_version": "1.5.0",
      "model_name": "DescriptionStyleModel",
      "state": {
       "_model_module": "@jupyter-widgets/controls",
       "_model_module_version": "1.5.0",
       "_model_name": "DescriptionStyleModel",
       "_view_count": null,
       "_view_module": "@jupyter-widgets/base",
       "_view_module_version": "1.2.0",
       "_view_name": "StyleView",
       "description_width": ""
      }
     },
     "9a9cc3764c6142bba85766069fcf9908": {
      "model_module": "@jupyter-widgets/base",
      "model_module_version": "1.2.0",
      "model_name": "LayoutModel",
      "state": {
       "_model_module": "@jupyter-widgets/base",
       "_model_module_version": "1.2.0",
       "_model_name": "LayoutModel",
       "_view_count": null,
       "_view_module": "@jupyter-widgets/base",
       "_view_module_version": "1.2.0",
       "_view_name": "LayoutView",
       "align_content": null,
       "align_items": null,
       "align_self": null,
       "border": null,
       "bottom": null,
       "display": null,
       "flex": null,
       "flex_flow": null,
       "grid_area": null,
       "grid_auto_columns": null,
       "grid_auto_flow": null,
       "grid_auto_rows": null,
       "grid_column": null,
       "grid_gap": null,
       "grid_row": null,
       "grid_template_areas": null,
       "grid_template_columns": null,
       "grid_template_rows": null,
       "height": null,
       "justify_content": null,
       "justify_items": null,
       "left": null,
       "margin": null,
       "max_height": null,
       "max_width": null,
       "min_height": null,
       "min_width": null,
       "object_fit": null,
       "object_position": null,
       "order": null,
       "overflow": null,
       "overflow_x": null,
       "overflow_y": null,
       "padding": null,
       "right": null,
       "top": null,
       "visibility": null,
       "width": null
      }
     },
     "a95282284d4643ec8769804806ea3faf": {
      "model_module": "@jupyter-widgets/controls",
      "model_module_version": "1.5.0",
      "model_name": "DescriptionStyleModel",
      "state": {
       "_model_module": "@jupyter-widgets/controls",
       "_model_module_version": "1.5.0",
       "_model_name": "DescriptionStyleModel",
       "_view_count": null,
       "_view_module": "@jupyter-widgets/base",
       "_view_module_version": "1.2.0",
       "_view_name": "StyleView",
       "description_width": ""
      }
     },
     "b0865ad12ed5459a919b4d99eacf3f02": {
      "model_module": "@jupyter-widgets/controls",
      "model_module_version": "1.5.0",
      "model_name": "HTMLModel",
      "state": {
       "_dom_classes": [],
       "_model_module": "@jupyter-widgets/controls",
       "_model_module_version": "1.5.0",
       "_model_name": "HTMLModel",
       "_view_count": null,
       "_view_module": "@jupyter-widgets/controls",
       "_view_module_version": "1.5.0",
       "_view_name": "HTMLView",
       "description": "",
       "description_tooltip": null,
       "layout": "IPY_MODEL_beaf663223bb4e639e53adf9662f824e",
       "placeholder": "​",
       "style": "IPY_MODEL_a95282284d4643ec8769804806ea3faf",
       "value": ""
      }
     },
     "beaf663223bb4e639e53adf9662f824e": {
      "model_module": "@jupyter-widgets/base",
      "model_module_version": "1.2.0",
      "model_name": "LayoutModel",
      "state": {
       "_model_module": "@jupyter-widgets/base",
       "_model_module_version": "1.2.0",
       "_model_name": "LayoutModel",
       "_view_count": null,
       "_view_module": "@jupyter-widgets/base",
       "_view_module_version": "1.2.0",
       "_view_name": "LayoutView",
       "align_content": null,
       "align_items": null,
       "align_self": null,
       "border": null,
       "bottom": null,
       "display": null,
       "flex": null,
       "flex_flow": null,
       "grid_area": null,
       "grid_auto_columns": null,
       "grid_auto_flow": null,
       "grid_auto_rows": null,
       "grid_column": null,
       "grid_gap": null,
       "grid_row": null,
       "grid_template_areas": null,
       "grid_template_columns": null,
       "grid_template_rows": null,
       "height": null,
       "justify_content": null,
       "justify_items": null,
       "left": null,
       "margin": null,
       "max_height": null,
       "max_width": null,
       "min_height": null,
       "min_width": null,
       "object_fit": null,
       "object_position": null,
       "order": null,
       "overflow": null,
       "overflow_x": null,
       "overflow_y": null,
       "padding": null,
       "right": null,
       "top": null,
       "visibility": null,
       "width": null
      }
     },
     "c456a2381b6e4af1acb7a2b97f4674de": {
      "model_module": "@jupyter-widgets/controls",
      "model_module_version": "1.5.0",
      "model_name": "ProgressStyleModel",
      "state": {
       "_model_module": "@jupyter-widgets/controls",
       "_model_module_version": "1.5.0",
       "_model_name": "ProgressStyleModel",
       "_view_count": null,
       "_view_module": "@jupyter-widgets/base",
       "_view_module_version": "1.2.0",
       "_view_name": "StyleView",
       "bar_color": null,
       "description_width": ""
      }
     },
     "cd3ee7c70a3a47bfbd0010e4f1bcf1f3": {
      "model_module": "@jupyter-widgets/base",
      "model_module_version": "1.2.0",
      "model_name": "LayoutModel",
      "state": {
       "_model_module": "@jupyter-widgets/base",
       "_model_module_version": "1.2.0",
       "_model_name": "LayoutModel",
       "_view_count": null,
       "_view_module": "@jupyter-widgets/base",
       "_view_module_version": "1.2.0",
       "_view_name": "LayoutView",
       "align_content": null,
       "align_items": null,
       "align_self": null,
       "border": null,
       "bottom": null,
       "display": null,
       "flex": null,
       "flex_flow": null,
       "grid_area": null,
       "grid_auto_columns": null,
       "grid_auto_flow": null,
       "grid_auto_rows": null,
       "grid_column": null,
       "grid_gap": null,
       "grid_row": null,
       "grid_template_areas": null,
       "grid_template_columns": null,
       "grid_template_rows": null,
       "height": null,
       "justify_content": null,
       "justify_items": null,
       "left": null,
       "margin": null,
       "max_height": null,
       "max_width": null,
       "min_height": null,
       "min_width": null,
       "object_fit": null,
       "object_position": null,
       "order": null,
       "overflow": null,
       "overflow_x": null,
       "overflow_y": null,
       "padding": null,
       "right": null,
       "top": null,
       "visibility": null,
       "width": "20px"
      }
     }
    },
    "version_major": 2,
    "version_minor": 0
   }
  }
 },
 "nbformat": 4,
 "nbformat_minor": 4
}
